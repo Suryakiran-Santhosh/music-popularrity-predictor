{
 "cells": [
  {
   "cell_type": "markdown",
   "id": "educational-consequence",
   "metadata": {},
   "source": [
    "# ECS 171 - Group 1\n",
    "## Random Forest Model Development"
   ]
  },
  {
   "cell_type": "code",
   "execution_count": 1,
   "id": "3bafdebc",
   "metadata": {},
   "outputs": [],
   "source": [
    "# Import some libraries\n",
    "import numpy as np\n",
    "import pandas as pd\n",
    "from numpy import array\n",
    "from sklearn.ensemble import RandomForestClassifier, BaggingClassifier\n",
    "from sklearn.tree import DecisionTreeClassifier\n",
    "from sklearn.model_selection import train_test_split,cross_val_score,cross_validate,GridSearchCV\n",
    "from sklearn.metrics import confusion_matrix, accuracy_score, mean_squared_error, multilabel_confusion_matrix, classification_report"
   ]
  },
  {
   "cell_type": "code",
   "execution_count": 2,
   "id": "b080f9b6",
   "metadata": {},
   "outputs": [
    {
     "data": {
      "text/html": [
       "<div>\n",
       "<style scoped>\n",
       "    .dataframe tbody tr th:only-of-type {\n",
       "        vertical-align: middle;\n",
       "    }\n",
       "\n",
       "    .dataframe tbody tr th {\n",
       "        vertical-align: top;\n",
       "    }\n",
       "\n",
       "    .dataframe thead th {\n",
       "        text-align: right;\n",
       "    }\n",
       "</style>\n",
       "<table border=\"1\" class=\"dataframe\">\n",
       "  <thead>\n",
       "    <tr style=\"text-align: right;\">\n",
       "      <th></th>\n",
       "      <th>track_id</th>\n",
       "      <th>popularity</th>\n",
       "      <th>danceability</th>\n",
       "      <th>instrumentalness</th>\n",
       "      <th>liveness</th>\n",
       "      <th>loudness</th>\n",
       "      <th>speechiness</th>\n",
       "      <th>valence</th>\n",
       "      <th>year</th>\n",
       "    </tr>\n",
       "  </thead>\n",
       "  <tbody>\n",
       "    <tr>\n",
       "      <th>0</th>\n",
       "      <td>3kxkjirben9RVm9NqYa6rm</td>\n",
       "      <td>81</td>\n",
       "      <td>0.477</td>\n",
       "      <td>0.783000</td>\n",
       "      <td>0.1560</td>\n",
       "      <td>-9.413</td>\n",
       "      <td>0.0364</td>\n",
       "      <td>0.1230</td>\n",
       "      <td>2017</td>\n",
       "    </tr>\n",
       "    <tr>\n",
       "      <th>1</th>\n",
       "      <td>1foMv2HQwfQ2vntFf9HFeG</td>\n",
       "      <td>81</td>\n",
       "      <td>0.676</td>\n",
       "      <td>0.000687</td>\n",
       "      <td>0.0463</td>\n",
       "      <td>-5.815</td>\n",
       "      <td>0.0302</td>\n",
       "      <td>0.8520</td>\n",
       "      <td>2010</td>\n",
       "    </tr>\n",
       "    <tr>\n",
       "      <th>2</th>\n",
       "      <td>2Y0iGXY6m6immVb2ktbseM</td>\n",
       "      <td>82</td>\n",
       "      <td>0.705</td>\n",
       "      <td>0.000855</td>\n",
       "      <td>0.1000</td>\n",
       "      <td>-6.156</td>\n",
       "      <td>0.0385</td>\n",
       "      <td>0.6200</td>\n",
       "      <td>2018</td>\n",
       "    </tr>\n",
       "    <tr>\n",
       "      <th>3</th>\n",
       "      <td>4DpNNXFMMxQEKl7r0ykkWA</td>\n",
       "      <td>81</td>\n",
       "      <td>0.680</td>\n",
       "      <td>0.000000</td>\n",
       "      <td>0.2240</td>\n",
       "      <td>-5.077</td>\n",
       "      <td>0.0475</td>\n",
       "      <td>0.4460</td>\n",
       "      <td>2015</td>\n",
       "    </tr>\n",
       "    <tr>\n",
       "      <th>4</th>\n",
       "      <td>2jQiSYrwJehQAcuaaQrXnS</td>\n",
       "      <td>81</td>\n",
       "      <td>0.422</td>\n",
       "      <td>0.000005</td>\n",
       "      <td>0.1080</td>\n",
       "      <td>-6.361</td>\n",
       "      <td>0.0335</td>\n",
       "      <td>0.0911</td>\n",
       "      <td>2015</td>\n",
       "    </tr>\n",
       "    <tr>\n",
       "      <th>...</th>\n",
       "      <td>...</td>\n",
       "      <td>...</td>\n",
       "      <td>...</td>\n",
       "      <td>...</td>\n",
       "      <td>...</td>\n",
       "      <td>...</td>\n",
       "      <td>...</td>\n",
       "      <td>...</td>\n",
       "      <td>...</td>\n",
       "    </tr>\n",
       "    <tr>\n",
       "      <th>122658</th>\n",
       "      <td>2dag0uQrHLihj1vvaMcIfK</td>\n",
       "      <td>9</td>\n",
       "      <td>0.897</td>\n",
       "      <td>0.002050</td>\n",
       "      <td>0.0784</td>\n",
       "      <td>-9.583</td>\n",
       "      <td>0.0753</td>\n",
       "      <td>0.8410</td>\n",
       "      <td>1998</td>\n",
       "    </tr>\n",
       "    <tr>\n",
       "      <th>122659</th>\n",
       "      <td>0iiteHczcpMQs9FcpjaDYB</td>\n",
       "      <td>20</td>\n",
       "      <td>0.180</td>\n",
       "      <td>0.930000</td>\n",
       "      <td>0.1040</td>\n",
       "      <td>-27.710</td>\n",
       "      <td>0.0373</td>\n",
       "      <td>0.0424</td>\n",
       "      <td>2014</td>\n",
       "    </tr>\n",
       "    <tr>\n",
       "      <th>122660</th>\n",
       "      <td>2KpiSebbOdyR5vv3ocAMoj</td>\n",
       "      <td>7</td>\n",
       "      <td>0.224</td>\n",
       "      <td>0.112000</td>\n",
       "      <td>0.0680</td>\n",
       "      <td>-28.260</td>\n",
       "      <td>0.0432</td>\n",
       "      <td>0.1420</td>\n",
       "      <td>2000</td>\n",
       "    </tr>\n",
       "    <tr>\n",
       "      <th>122661</th>\n",
       "      <td>6R6L70n7FGNYLSgwiBuKB1</td>\n",
       "      <td>12</td>\n",
       "      <td>0.686</td>\n",
       "      <td>0.000000</td>\n",
       "      <td>0.2050</td>\n",
       "      <td>-18.487</td>\n",
       "      <td>0.9110</td>\n",
       "      <td>0.4190</td>\n",
       "      <td>2012</td>\n",
       "    </tr>\n",
       "    <tr>\n",
       "      <th>122662</th>\n",
       "      <td>575MuGFrdfOFBsICmpBtsr</td>\n",
       "      <td>1</td>\n",
       "      <td>0.547</td>\n",
       "      <td>0.000052</td>\n",
       "      <td>0.2370</td>\n",
       "      <td>-7.683</td>\n",
       "      <td>0.1680</td>\n",
       "      <td>0.6730</td>\n",
       "      <td>2013</td>\n",
       "    </tr>\n",
       "  </tbody>\n",
       "</table>\n",
       "<p>122663 rows × 9 columns</p>\n",
       "</div>"
      ],
      "text/plain": [
       "                      track_id  popularity  danceability  instrumentalness  \\\n",
       "0       3kxkjirben9RVm9NqYa6rm          81         0.477          0.783000   \n",
       "1       1foMv2HQwfQ2vntFf9HFeG          81         0.676          0.000687   \n",
       "2       2Y0iGXY6m6immVb2ktbseM          82         0.705          0.000855   \n",
       "3       4DpNNXFMMxQEKl7r0ykkWA          81         0.680          0.000000   \n",
       "4       2jQiSYrwJehQAcuaaQrXnS          81         0.422          0.000005   \n",
       "...                        ...         ...           ...               ...   \n",
       "122658  2dag0uQrHLihj1vvaMcIfK           9         0.897          0.002050   \n",
       "122659  0iiteHczcpMQs9FcpjaDYB          20         0.180          0.930000   \n",
       "122660  2KpiSebbOdyR5vv3ocAMoj           7         0.224          0.112000   \n",
       "122661  6R6L70n7FGNYLSgwiBuKB1          12         0.686          0.000000   \n",
       "122662  575MuGFrdfOFBsICmpBtsr           1         0.547          0.000052   \n",
       "\n",
       "        liveness  loudness  speechiness  valence  year  \n",
       "0         0.1560    -9.413       0.0364   0.1230  2017  \n",
       "1         0.0463    -5.815       0.0302   0.8520  2010  \n",
       "2         0.1000    -6.156       0.0385   0.6200  2018  \n",
       "3         0.2240    -5.077       0.0475   0.4460  2015  \n",
       "4         0.1080    -6.361       0.0335   0.0911  2015  \n",
       "...          ...       ...          ...      ...   ...  \n",
       "122658    0.0784    -9.583       0.0753   0.8410  1998  \n",
       "122659    0.1040   -27.710       0.0373   0.0424  2014  \n",
       "122660    0.0680   -28.260       0.0432   0.1420  2000  \n",
       "122661    0.2050   -18.487       0.9110   0.4190  2012  \n",
       "122662    0.2370    -7.683       0.1680   0.6730  2013  \n",
       "\n",
       "[122663 rows x 9 columns]"
      ]
     },
     "execution_count": 2,
     "metadata": {},
     "output_type": "execute_result"
    }
   ],
   "source": [
    "# Dataset Readin\n",
    "df = pd.read_csv('SpotifyWithDate.csv',encoding='latin-1')\n",
    "df"
   ]
  },
  {
   "cell_type": "code",
   "execution_count": 4,
   "id": "northern-majority",
   "metadata": {},
   "outputs": [],
   "source": [
    "# Split to X and y \n",
    "X = df.copy().drop(columns = ['popularity','track_id'])\n",
    "# Set Popularity for each category\n",
    "y = df['popularity']\n",
    "y = ((y-1)//20)+1"
   ]
  },
  {
   "cell_type": "code",
   "execution_count": 5,
   "id": "094293f4",
   "metadata": {},
   "outputs": [
    {
     "name": "stdout",
     "output_type": "stream",
     "text": [
      "{5: 534, 4: 9622, 3: 40131, 2: 59120, 1: 13256}\n"
     ]
    }
   ],
   "source": [
    "# Get distribution for y\n",
    "def getdistribution(data):\n",
    "    distribution = dict()\n",
    "    for value in data:\n",
    "        if value in distribution:\n",
    "            distribution[value] += 1\n",
    "        else:\n",
    "            distribution[value] = 1\n",
    "    return distribution\n",
    "\n",
    "dist = getdistribution(y)\n",
    "print(dist) # print frequency"
   ]
  },
  {
   "cell_type": "code",
   "execution_count": 64,
   "id": "mental-socket",
   "metadata": {},
   "outputs": [
    {
     "name": "stdout",
     "output_type": "stream",
     "text": [
      "GridSearchCV(estimator=RandomForestClassifier(random_state=4),\n",
      "             param_grid={'max_depth': [20, 30, 40],\n",
      "                         'max_features': ['auto', 'log2'],\n",
      "                         'n_estimators': [150, 200]})\n",
      "0.5113848562997657\n",
      "{'max_depth': 20, 'max_features': 'auto', 'n_estimators': 200}\n"
     ]
    }
   ],
   "source": [
    "# GridSearch to find the best combination of hyperparameters\n",
    "gridSearch = GridSearchCV(RandomForestClassifier(random_state=4), {\n",
    "    'n_estimators':[150,200],\n",
    "    'max_depth': [20,30,40],\n",
    "    'max_features':['auto','log2']\n",
    "})\n",
    "test_result = gridSearch.fit(X, y)\n",
    "print(test_result)\n",
    "print(test_result.best_score_)\n",
    "print(test_result.best_params_)"
   ]
  },
  {
   "cell_type": "code",
   "execution_count": 10,
   "id": "d64d7239",
   "metadata": {},
   "outputs": [
    {
     "data": {
      "text/plain": [
       "RandomForestClassifier(max_depth=20, n_estimators=200, random_state=4)"
      ]
     },
     "execution_count": 10,
     "metadata": {},
     "output_type": "execute_result"
    }
   ],
   "source": [
    "# Split to training and testing dataset\n",
    "X_train, X_test, y_train, y_test = train_test_split(X, y, test_size = 0.20, random_state=5)\n",
    "# Create the model and fit\n",
    "rf_cla = RandomForestClassifier(n_estimators=200,random_state=4, max_depth = 20)\n",
    "rf_cla.fit(X_train, y_train)"
   ]
  },
  {
   "cell_type": "code",
   "execution_count": 11,
   "id": "2553293f",
   "metadata": {},
   "outputs": [
    {
     "name": "stdout",
     "output_type": "stream",
     "text": [
      "\n",
      "Accuracy: \n",
      "0.5313251538743733\n",
      "\n",
      "MSE: \n",
      "0.6209595239065748\n",
      "\n",
      "Precision and recall:\n",
      "              precision    recall  f1-score   support\n",
      "\n",
      "           1       0.63      0.18      0.28      2650\n",
      "           2       0.55      0.77      0.64     11821\n",
      "           3       0.47      0.40      0.43      8083\n",
      "           4       0.77      0.09      0.17      1880\n",
      "           5       0.69      0.24      0.36        99\n",
      "\n",
      "    accuracy                           0.53     24533\n",
      "   macro avg       0.62      0.34      0.38     24533\n",
      "weighted avg       0.55      0.53      0.50     24533\n",
      "\n",
      "Confusion matrix: \n",
      "[[[21603   280]\n",
      "  [ 2175   475]]\n",
      "\n",
      " [[ 5221  7491]\n",
      "  [ 2701  9120]]\n",
      "\n",
      " [[12788  3662]\n",
      "  [ 4843  3240]]\n",
      "\n",
      " [[22599    54]\n",
      "  [ 1704   176]]\n",
      "\n",
      " [[24423    11]\n",
      "  [   75    24]]]\n"
     ]
    }
   ],
   "source": [
    "# Make prediction\n",
    "y_pred = rf_cla.predict(X_test)\n",
    "\n",
    "# Accuracy\n",
    "print(\"\\nAccuracy: \")\n",
    "print(accuracy_score(y_test, y_pred))\n",
    "\n",
    "# MSE\n",
    "print('\\nMSE: ')\n",
    "print(mean_squared_error(y_test,y_pred))\n",
    "\n",
    "# The map of label and their precision and recall\n",
    "print(\"\\nPrecision and recall:\" )\n",
    "print(classification_report(y_test, y_pred))\n",
    "\n",
    "# Print confusion matrix\n",
    "print(\"Confusion matrix: \")\n",
    "matrix = confusion_matrix(y_test, y_pred)\n",
    "multi_matrix = multilabel_confusion_matrix(y_test, y_pred)\n",
    "print(multi_matrix)"
   ]
  },
  {
   "cell_type": "code",
   "execution_count": 12,
   "id": "5eeed442",
   "metadata": {},
   "outputs": [
    {
     "data": {
      "text/plain": [
       "['random_forest_model200.joblib']"
      ]
     },
     "execution_count": 12,
     "metadata": {},
     "output_type": "execute_result"
    }
   ],
   "source": [
    "import joblib\n",
    "# save the model to disk\n",
    "filename = 'random_forest_model200.joblib'\n",
    "joblib.dump(rf_cla, filename)"
   ]
  },
  {
   "cell_type": "code",
   "execution_count": null,
   "id": "9379e495",
   "metadata": {},
   "outputs": [],
   "source": []
  }
 ],
 "metadata": {
  "kernelspec": {
   "display_name": "Python 3",
   "language": "python",
   "name": "python3"
  },
  "language_info": {
   "codemirror_mode": {
    "name": "ipython",
    "version": 3
   },
   "file_extension": ".py",
   "mimetype": "text/x-python",
   "name": "python",
   "nbconvert_exporter": "python",
   "pygments_lexer": "ipython3",
   "version": "3.8.8"
  }
 },
 "nbformat": 4,
 "nbformat_minor": 5
}
