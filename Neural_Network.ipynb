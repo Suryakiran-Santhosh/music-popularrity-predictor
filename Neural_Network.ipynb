{
 "cells": [
  {
   "cell_type": "code",
   "execution_count": 5,
   "id": "8e61f0b0",
   "metadata": {
    "id": "8e61f0b0"
   },
   "outputs": [],
   "source": [
    "import numpy as np\n",
    "import pandas as pd\n",
    "from numpy import array\n",
    "from sklearn.neural_network import MLPClassifier\n",
    "from sklearn.model_selection import train_test_split,cross_val_score,cross_validate,GridSearchCV\n",
    "from sklearn.metrics import confusion_matrix, accuracy_score, mean_squared_error, multilabel_confusion_matrix, classification_report"
   ]
  },
  {
   "cell_type": "code",
   "execution_count": 6,
   "id": "31ea9b01",
   "metadata": {
    "colab": {
     "base_uri": "https://localhost:8080/"
    },
    "id": "31ea9b01",
    "outputId": "26218e9c-e875-4277-9d88-550b91f19ff0"
   },
   "outputs": [
    {
     "name": "stdout",
     "output_type": "stream",
     "text": [
      "        danceability  instrumentalness  liveness  loudness  speechiness  \\\n",
      "0           0.821332          0.000000  0.048701  0.713030     0.048370   \n",
      "1           0.798730          0.000503  0.079297  0.818937     0.023603   \n",
      "2           0.639436          0.000108  0.041633  0.719526     0.026355   \n",
      "3           0.608223          0.000001  0.039411  0.769941     0.005186   \n",
      "4           0.530729          0.125125  0.100300  0.839360     0.012595   \n",
      "...              ...               ...       ...       ...          ...   \n",
      "143611      0.628673          0.000000  0.321438  0.813374     0.008150   \n",
      "143612      0.360672          0.001792  0.136651  0.748332     0.150085   \n",
      "143613      0.670649          0.000012  0.538538  0.820454     0.009208   \n",
      "143614      0.781509          0.000025  0.053447  0.859996     0.388230   \n",
      "143615      0.617910          0.000000  0.107368  0.789645     0.018628   \n",
      "\n",
      "         valence      year  \n",
      "0       0.265646  0.950820  \n",
      "1       0.869155  0.934426  \n",
      "2       0.737296  0.762295  \n",
      "3       0.720053  0.918033  \n",
      "4       0.979714  0.877049  \n",
      "...          ...       ...  \n",
      "143611  0.262603  0.991803  \n",
      "143612  0.542550  0.991803  \n",
      "143613  0.638909  0.991803  \n",
      "143614  0.551679  0.991803  \n",
      "143615  0.079724  0.991803  \n",
      "\n",
      "[143616 rows x 7 columns]\n",
      "0         1\n",
      "1         1\n",
      "2         1\n",
      "3         1\n",
      "4         1\n",
      "         ..\n",
      "143611    5\n",
      "143612    4\n",
      "143613    5\n",
      "143614    4\n",
      "143615    4\n",
      "Name: popularity, Length: 143616, dtype: int64\n"
     ]
    }
   ],
   "source": [
    "df = pd.read_csv('SpotifyWithDate.csv',encoding='latin-1')\n",
    "\n",
    "# Normalize data\n",
    "X, y = df.drop(columns=['popularity', 'track_id']), df['popularity']\n",
    "X = (X-X.min())/(X.max()-X.min())\n",
    "y = ((y-1)//20)+1\n",
    "\n",
    "print(X)\n",
    "print(y)"
   ]
  },
  {
   "cell_type": "code",
   "execution_count": 32,
   "id": "pacific-radar",
   "metadata": {
    "id": "pacific-radar"
   },
   "outputs": [],
   "source": [
    "X_train, X_test, y_train, y_test = train_test_split(X, y, test_size = 0.30, random_state=5)\n",
    "\n",
    "# Take about 10 mins to train the model\n",
    "mlp = MLPClassifier(solver = 'sgd',activation=\"relu\", hidden_layer_sizes=(19, 35), learning_rate_init=0.02, max_iter=400, random_state=4)\n",
    "nn_model = mlp.fit(X_train, y_train)\n"
   ]
  },
  {
   "cell_type": "code",
   "execution_count": 33,
   "id": "ready-special",
   "metadata": {
    "colab": {
     "base_uri": "https://localhost:8080/"
    },
    "id": "ready-special",
    "outputId": "2770df03-03c1-461e-fb60-8fc7a9dcbae5"
   },
   "outputs": [
    {
     "name": "stdout",
     "output_type": "stream",
     "text": [
      "\n",
      "Accuracy: \n",
      "0.48771034002553093\n",
      "\n",
      "MSE: \n",
      "0.7187652315190902\n",
      "\n",
      "Precision and recall:\n",
      "              precision    recall  f1-score   support\n",
      "\n",
      "           1       0.61      0.37      0.46     10255\n",
      "           2       0.47      0.74      0.57     17745\n",
      "           3       0.46      0.31      0.37     12089\n",
      "           4       0.73      0.10      0.18      2840\n",
      "           5       0.00      0.00      0.00       156\n",
      "\n",
      "    accuracy                           0.49     43085\n",
      "   macro avg       0.45      0.31      0.32     43085\n",
      "weighted avg       0.51      0.49      0.46     43085\n",
      "\n",
      "Confusion matrix: \n",
      "[[[30445  2385]\n",
      "  [ 6454  3801]]\n",
      "\n",
      " [[10303 15037]\n",
      "  [ 4626 13119]]\n",
      "\n",
      " [[26454  4542]\n",
      "  [ 8289  3800]]\n",
      "\n",
      " [[40137   108]\n",
      "  [ 2547   293]]\n",
      "\n",
      " [[42929     0]\n",
      "  [  156     0]]]\n"
     ]
    },
    {
     "name": "stderr",
     "output_type": "stream",
     "text": [
      "C:\\Users\\Anna Feng\\anaconda3\\lib\\site-packages\\sklearn\\metrics\\_classification.py:1245: UndefinedMetricWarning: Precision and F-score are ill-defined and being set to 0.0 in labels with no predicted samples. Use `zero_division` parameter to control this behavior.\n",
      "  _warn_prf(average, modifier, msg_start, len(result))\n",
      "C:\\Users\\Anna Feng\\anaconda3\\lib\\site-packages\\sklearn\\metrics\\_classification.py:1245: UndefinedMetricWarning: Precision and F-score are ill-defined and being set to 0.0 in labels with no predicted samples. Use `zero_division` parameter to control this behavior.\n",
      "  _warn_prf(average, modifier, msg_start, len(result))\n",
      "C:\\Users\\Anna Feng\\anaconda3\\lib\\site-packages\\sklearn\\metrics\\_classification.py:1245: UndefinedMetricWarning: Precision and F-score are ill-defined and being set to 0.0 in labels with no predicted samples. Use `zero_division` parameter to control this behavior.\n",
      "  _warn_prf(average, modifier, msg_start, len(result))\n"
     ]
    }
   ],
   "source": [
    "# Make prediction\n",
    "y_pred = nn_model.predict(X_test)\n",
    "\n",
    "# Accuracy\n",
    "print(\"\\nAccuracy: \")\n",
    "print(accuracy_score(y_test, y_pred))\n",
    "\n",
    "# MSE\n",
    "print('\\nMSE: ')\n",
    "print(mean_squared_error(y_test,y_pred))\n",
    "\n",
    "# The map of label and their precision and recall\n",
    "print(\"\\nPrecision and recall:\" )\n",
    "print(classification_report(y_test, y_pred))\n",
    "\n",
    "\n",
    "print(\"Confusion matrix: \")\n",
    "matrix = confusion_matrix(y_test, y_pred)\n",
    "multi_matrix = multilabel_confusion_matrix(y_test, y_pred)\n",
    "print(multi_matrix)"
   ]
  },
  {
   "cell_type": "code",
   "execution_count": null,
   "id": "3d0f67c4",
   "metadata": {},
   "outputs": [],
   "source": []
  }
 ],
 "metadata": {
  "colab": {
   "name": "NN.ipynb",
   "provenance": []
  },
  "kernelspec": {
   "display_name": "Python 3",
   "language": "python",
   "name": "python3"
  },
  "language_info": {
   "codemirror_mode": {
    "name": "ipython",
    "version": 3
   },
   "file_extension": ".py",
   "mimetype": "text/x-python",
   "name": "python",
   "nbconvert_exporter": "python",
   "pygments_lexer": "ipython3",
   "version": "3.8.8"
  }
 },
 "nbformat": 4,
 "nbformat_minor": 5
}
